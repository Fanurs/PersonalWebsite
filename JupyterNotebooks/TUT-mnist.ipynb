{
 "cells": [
  {
   "cell_type": "markdown",
   "metadata": {
    "colab_type": "text",
    "id": "fBDfDUHtoK84"
   },
   "source": [
    "# 第一节：机器学习与人工智能\n",
    "机器学习（Machine Learning）是过去十年开始，在许多行业流行起来的一门学科。顾名思义，其优势在于能让电脑从现有数据中“学习”，而后用以解决新问题，实现真正的自动化。随机器学习常出现的另一个词，便是人工智能。然而广义上的人工智能其实距离我们目前的科技还是十分遥远的。科学家普遍认为真正的人工智能，是必须具备像人类大脑般，能学习各种抽象事物的能力。但目前我们能开发的程式，都只能归纳于狭义的人工智能，即仅有一技之长的机器智慧。\n",
    "\n",
    "机器学习其实指的并不是任何一种特定的演算法，而是个统称。普遍而言，只要一项演算法有涉及到“学习”或“训练”的过程，从而使得编写程式的人无需事前针对各种可能出现的情况，皆给出相应的解决方法，那我们就可以认为它属于机器学习的范畴。在众多机器学习的演算法中，人工神经网络（Artificial neural network）是当下最热门的一种模型。人工神经网络，又简写为ANN，的提出是希望能以电脑的运算单位模拟人类大脑的神经网络，从而使电脑具备像人类般的“学习力”。当然这种说法仅仅是比喻，而非真正意义上的大脑模拟。就目前电脑科技和神经科学的发展而言，模拟大脑尚言之过早。\n",
    "\n",
    "ANN的提出得追溯到上世纪60年代，那是个一台电脑就有一间房间大的年代。当时的人们仅视ANN为一种理论模型，因为想要“训练”出一个成功的ANN并用以解决实际问题，所需要的计算量和学习样本，在当时都是超乎现实的庞大。幸运的是，踏入21世纪以后，我们迎来了资讯爆炸的网络时代，数据样本成千上万，配合上迭代升级了数十年的电脑硬件，ANN便重新得到了重视。"
   ]
  },
  {
   "cell_type": "markdown",
   "metadata": {
    "colab_type": "text",
    "id": "p8c1CxVoddZa"
   },
   "source": [
    "## (1.1) 宗旨\n",
    "由于越来越多人听说了人工智能，却对其本质有着许多不了解，甚至误会。因此笔者撰写此文，希望能达到以下目的：\n",
    "1. 让非理工科领域的读者对机器学习有更深刻的理解，而非停留在字面上的猜测，同时又尽量避开了复杂的数学和电脑科概念。\n",
    "2. 让从未接触过编程的读者认识到，今日的程式语言，无论是编写环境还是语言的复杂度，都已经大幅度降低了，拾起这门技术的难度并不高。\n",
    "3. 介绍机器学习的应用范围，让某些读者意识到自己所从事的研究或事业，也许能收益于之。"
   ]
  },
  {
   "cell_type": "markdown",
   "metadata": {
    "colab_type": "text",
    "id": "aSYwcfeOoK9B"
   },
   "source": [
    "# 第二节：谷歌免费的云端编写环境——Google Colaboratory\n",
    "今时今日，想使用个简单的ANN模型已经是非常简单的一件事。本文将以Google Colaboratory为例，演示如何训练ANN，从而达到初步的图像识别技术。以往来说，想要在自己的电脑编程，就必须得下载及安装相应的程式语言和编译器，其过程不仅繁琐复杂，也因不同的电脑操作系统而异，经常会出现你写的程式搬到另一个人的电脑就出错误了。即使这些问题都解决了，程式跑起来的速度也受到家用电脑硬件的局限，若想要处理大数据，就不得不花钱买好点的电脑设备。然而，Google Colaboratory几乎解决了以上所有困扰。它不需要使用者额外安装任何软件，只要有个网络浏览器（Web browser），你就可以像登入任何网站一般，直接使用，哪怕手机上的浏览器也是可以的，尽管屏幕小了些，但不影响运算。另外，它还有云端计算的选项，所提供的计算器是GPU而非一般家庭电脑使用的CPU，因此更擅长训练ANN（GPU也擅长挖比特币，但这是违反Google Colab使用协议的）。\n"
   ]
  },
  {
   "cell_type": "markdown",
   "metadata": {
    "colab_type": "text",
    "id": "aRYQfIs3oK9L"
   },
   "source": [
    "## (2.1) 使用界面\n",
    "Google Colab是建立在一种叫Jupyter Notebook的交互式笔记本，基本上就是能让你在网络伺服器上编程。Jupyter Notebook除了能拿来编程，也很贴心地准备了很多markdown cell，供书写一般的文字。你现在所阅读所有段落就是直接输入在markdown cell上，而拿来写程式代码的框框则叫code cell。以下就是一个简单的code cell："
   ]
  },
  {
   "cell_type": "code",
   "execution_count": null,
   "metadata": {
    "colab": {
     "base_uri": "https://localhost:8080/",
     "height": 35
    },
    "colab_type": "code",
    "executionInfo": {
     "elapsed": 596,
     "status": "ok",
     "timestamp": 1582769028958,
     "user": {
      "displayName": "Chi En Teh",
      "photoUrl": "https://lh3.googleusercontent.com/a-/AAuE7mCGlgBeaMHMmQhPpgPlREnVrZemyJr5CgobRmFDwg=s64",
      "userId": "12724506978468022310"
     },
     "user_tz": 300
    },
    "id": "jfyDuZmLoK9P",
    "outputId": "1d43c339-f39b-4577-9676-2aed8e8559bf"
   },
   "outputs": [],
   "source": [
    "print('这是个code cell。这里可以输入Python代码，比如我们能计算123 + 456 =', 123+456)"
   ]
  },
  {
   "cell_type": "markdown",
   "metadata": {
    "colab_type": "text",
    "id": "fTLIkE9krUS8"
   },
   "source": [
    "Code cell里，我们能够写代码。写好之后，要执行（运算），则在键盘上按Ctrl + Enter。若是在手机上浏览本文，则可点击code cell右侧的的“Play”符号。<br>\n",
    "<img src=\"https://github.com/Fanurs/PersonalWebsite/blob/master/JupyterNotebooks/Images/run_cell_demo.png\">"
   ]
  },
  {
   "cell_type": "markdown",
   "metadata": {
    "colab_type": "text",
    "id": "XNMYcRsRuSR4"
   },
   "source": [
    "恭喜你成功执行了第一行代码！接下来我们将接触到越来越复杂的程式，并最后做到简单的图像识别技术。在正式开始讨论图像识别，我们再来看看最后一个小例子，比刚才的稍微复杂一些。"
   ]
  },
  {
   "cell_type": "code",
   "execution_count": null,
   "metadata": {
    "colab": {
     "base_uri": "https://localhost:8080/",
     "height": 35
    },
    "colab_type": "code",
    "executionInfo": {
     "elapsed": 582,
     "status": "ok",
     "timestamp": 1582769028959,
     "user": {
      "displayName": "Chi En Teh",
      "photoUrl": "https://lh3.googleusercontent.com/a-/AAuE7mCGlgBeaMHMmQhPpgPlREnVrZemyJr5CgobRmFDwg=s64",
      "userId": "12724506978468022310"
     },
     "user_tz": 300
    },
    "id": "EyVsB8eQuQ-9",
    "outputId": "b8e79e5c-7b76-4c6d-80dd-500f5cd19acd"
   },
   "outputs": [],
   "source": [
    "summation = 0\n",
    "for number in range(101):\n",
    "    summation += number\n",
    "print('从0加到100等于：', summation)"
   ]
  },
  {
   "cell_type": "markdown",
   "metadata": {
    "colab_type": "text",
    "id": "6aMtYIrpvUOB"
   },
   "source": [
    "试着执行以上code cell你应该会得到0到100的数字之和，答案应为5050。"
   ]
  },
  {
   "cell_type": "markdown",
   "metadata": {
    "colab_type": "text",
    "id": "g7ckIWRGvhrT"
   },
   "source": [
    "# 第三节：手写数字的自动识别"
   ]
  },
  {
   "cell_type": "markdown",
   "metadata": {
    "colab_type": "text",
    "id": "fafd3xuev-dB"
   },
   "source": [
    "## (3.1) 引进各种懒人包——python modules\n",
    "也许你会很诧异，我怎么敢带着一群零基础的读者，去攻克图像识别这种专家研究了几十年的科技。但我们其实是站在巨人的肩上，许多演算法和数据库，都不需要从头开始编写。事实上，对绝大部分python使用者而言，包括了顶尖的科研人员、工程师、金融分析师等，在处理许多任务时都是直接引进现成的python modules，而非从零写起。毫不夸张地说，优秀的python程式员除了要懂得编写优秀的代码，更需要知道大量“懒人包”的使用方法。这其实就是在理工科领域里，经常拿来提醒人的一句话，“别重复造轮子”。\n",
    "\n",
    "本文需要用到的几个核心python模块（modules）分别是：\n",
    "- `tensorflow`\n",
    "    - 这是谷歌2015年11月推出的机器学习模块，最近一次更新的2020年1月初，是目前业界里公认，机器学习功能最强大的模块之一。它适合初学者，也适合尖端研究。\n",
    "- `numpy`\n",
    "    - 这是一个历史悠久的数学函数库。目前市面上能找到的python模块，只要涉及到一丝数学，包括tensorflow等，都是建立在numpy之上。\n",
    "- `matplotlib`\n",
    "    - 光有一堆数据，没图怎么行？这是python最常用的画图模块。\n",
    "\n",
    "要引进这些模块也是很容易的，执行以下code cell便可："
   ]
  },
  {
   "cell_type": "code",
   "execution_count": null,
   "metadata": {
    "colab": {
     "base_uri": "https://localhost:8080/",
     "height": 82
    },
    "colab_type": "code",
    "executionInfo": {
     "elapsed": 1929,
     "status": "ok",
     "timestamp": 1582769030318,
     "user": {
      "displayName": "Chi En Teh",
      "photoUrl": "https://lh3.googleusercontent.com/a-/AAuE7mCGlgBeaMHMmQhPpgPlREnVrZemyJr5CgobRmFDwg=s64",
      "userId": "12724506978468022310"
     },
     "user_tz": 300
    },
    "id": "66emOeaJoK9Z",
    "outputId": "dcaf74ed-63d7-4fe0-928c-95d0d9f77db7"
   },
   "outputs": [],
   "source": [
    "# 其他不是很重要的模块\n",
    "import warnings\n",
    "warnings.simplefilter('ignore')\n",
    "\n",
    "# 本文的主要模块\n",
    "import tensorflow as tf\n",
    "import numpy as np\n",
    "import matplotlib.pyplot as plt"
   ]
  },
  {
   "cell_type": "markdown",
   "metadata": {
    "colab_type": "text",
    "id": "Y_xbGd962FHz"
   },
   "source": [
    "你可能会看到一些红色的字或其它信息。成大事不拘小节，别理它，我们继续前进。"
   ]
  },
  {
   "cell_type": "markdown",
   "metadata": {
    "colab_type": "text",
    "id": "wgGyqnGr22OU"
   },
   "source": [
    "## (3.2) 现成的数据库\n",
    "说了老半天图像识别，我们究竟是要识别什么样的图像呢？图像识别可以很复杂，比如通过人脸辨识身份，或是从烟霾里辨别道路指标，这些都是短短的一篇文章里很难演示的，所以本文就不采用了。但比较简单的，像是辨认手写的数字（0到9），在有了tensorflow的基础上，就变得十分简单，一百行代码内就能解决的问题。我们就来看看这个个位数手写体的辨识问题吧！\n",
    "\n",
    "如刚才所言，ANN在上实际之所以被摒弃，其中一个原因就是没有这么多的数据可以拿来训练电脑。但我们现在又怎么找来成千上万的手写样本呢？所幸tensorflow模块就已经自带了大量的数据库。本文里将使用个叫MNIST的经典数据库，也是大部分机器学习的入门者接触。\n",
    "\n",
    "执行一下code cell便可将70000个手写字体的图像及其对应的标签读入："
   ]
  },
  {
   "cell_type": "code",
   "execution_count": null,
   "metadata": {
    "colab": {},
    "colab_type": "code",
    "id": "SwImvspOoK9j"
   },
   "outputs": [],
   "source": [
    "mnist = tf.keras.datasets.mnist\n",
    "data_train, data_test = mnist.load_data()"
   ]
  },
  {
   "cell_type": "markdown",
   "metadata": {
    "colab_type": "text",
    "id": "PCTjnync6wYt"
   },
   "source": [
    "眼见为凭。以下代码将机抽一张图，画出来看看。由于是随机的，所以每次执行，显示的图都不一样。想看多几张，就多重复执行一下代码即可。"
   ]
  },
  {
   "cell_type": "code",
   "execution_count": null,
   "metadata": {
    "colab": {
     "base_uri": "https://localhost:8080/",
     "height": 291
    },
    "colab_type": "code",
    "executionInfo": {
     "elapsed": 2289,
     "status": "ok",
     "timestamp": 1582769030695,
     "user": {
      "displayName": "Chi En Teh",
      "photoUrl": "https://lh3.googleusercontent.com/a-/AAuE7mCGlgBeaMHMmQhPpgPlREnVrZemyJr5CgobRmFDwg=s64",
      "userId": "12724506978468022310"
     },
     "user_tz": 300
    },
    "id": "mFiz7qp86v9F",
    "outputId": "9c552a67-b664-468a-f42c-4014b7d76e6c"
   },
   "outputs": [],
   "source": [
    "fig, ax = plt.subplots(dpi=100, figsize=(3,3))\n",
    "i = np.random.choice(len(data_train[1]))\n",
    "ax.imshow(data_train[0][i], cmap=plt.cm.binary)\n",
    "ax.set_title('Label: %d' % data_train[1][i])\n",
    "ax.set_xlim(0,28)\n",
    "ax.set_ylim(28,0)\n",
    "ax.set_xticks([])\n",
    "ax.set_yticks([])\n",
    "plt.show()"
   ]
  },
  {
   "cell_type": "markdown",
   "metadata": {
    "colab_type": "text",
    "id": "R7guBqfL81IA"
   },
   "source": [
    "数据库里的图像其实仅有28$\\times$28，即784像素。解析度十分有限，主要是因为：\n",
    "1. MNIST数据库的建立是于上世纪，当时要储存70000张图像，得大幅度压缩像素。\n",
    "2. 后来研究人员也发现对于数字手写体的识别，其实并不需要高解析度的图像，毕竟我们人类平时也是能轻易辨认出书写僚草或字迹模糊的数字。\n",
    "\n",
    "以上每一张图都附上了个MNIST提供的标签（label），这将会被用来教育我们的ANN，让它学会辨认数字，训练完毕后，便可用来比对ANN所给出的答案。事实上，这70000张图像中，有60000将拿来训练电脑，剩下的10000是全新的（不同人写的），用以测试电脑的识别能力。"
   ]
  },
  {
   "cell_type": "markdown",
   "metadata": {
    "colab_type": "text",
    "id": "NXMeME55_baQ"
   },
   "source": [
    "## (3.3) 图像归一化\n",
    "有了这些黑白图像，接下来要进行的步骤叫做“归一化”（normalization）。这概念稍微有些抽象，感兴趣的话可以继续阅读下一段文字，要不然就直接执行以下code cell即可。\n",
    "\n",
    "MNIST的黑白图像，每个像素，黑色代表了255，白色代表了0，其中的灰度由1至254之间所组成。但不同的图像和数据，其数值可能非常不同，比如如果是记录天气温度的图，可能范围就变成了-5（摄氏度）到+30（摄氏度）之间。数值范围若不同，则各种演算法都不能直接套用，十分不方便。因此，有种解决方法就是把最小值转换成0,最大值转换成1,这么以来，训练数字手写体的演算法也可能可以直接搬用到气温图的分析上。"
   ]
  },
  {
   "cell_type": "code",
   "execution_count": null,
   "metadata": {
    "colab": {},
    "colab_type": "code",
    "id": "ncjoG_mF6m93"
   },
   "outputs": [],
   "source": [
    "# 把图像归一化\n",
    "x_train = tf.keras.utils.normalize(data_train[0], axis=1)\n",
    "x_test = tf.keras.utils.normalize(data_test[0], axis=1)\n",
    "y_train = data_train[1]\n",
    "y_test = data_test[1]"
   ]
  },
  {
   "cell_type": "markdown",
   "metadata": {
    "colab_type": "text",
    "id": "YAXjE2_-CV7u"
   },
   "source": [
    "## (3.4) 搭建及训练人工神经网络"
   ]
  },
  {
   "cell_type": "markdown",
   "metadata": {
    "colab_type": "text",
    "id": "KWEI6UDgHOZS"
   },
   "source": [
    "首先，我们来搭建ANN："
   ]
  },
  {
   "cell_type": "code",
   "execution_count": null,
   "metadata": {
    "colab": {},
    "colab_type": "code",
    "id": "4cvICLSnCo0b"
   },
   "outputs": [],
   "source": [
    "# Sequential是最简单的神经网络模型\n",
    "ann = tf.keras.models.Sequential()\n",
    "\n",
    "# 给我们的ANN添加感官，相当于\"看\"图像的眼睛\n",
    "ann.add(tf.keras.layers.Flatten())\n",
    "\n",
    "# 接下来两行就是模拟\"神经网络\"，共搭建出两层，每层有128个神经元\n",
    "ann.add(tf.keras.layers.Dense(128, activation=tf.nn.relu))\n",
    "ann.add(tf.keras.layers.Dense(128, activation=tf.nn.relu))\n",
    "\n",
    "# 最后是输出，由于我们只分析0到9的数字，因此ANN将有10个选项可以作答\n",
    "ann.add(tf.keras.layers.Dense(10, activation=tf.nn.softmax))\n",
    "\n",
    "# 完成后，我们便把这个模型打包起来，进行编译\n",
    "ann.compile(optimizer='adam',\n",
    "            loss='sparse_categorical_crossentropy',\n",
    "            metrics=['accuracy'],\n",
    "            )"
   ]
  },
  {
   "cell_type": "markdown",
   "metadata": {
    "colab_type": "text",
    "id": "BvsVSyQ2Gy0I"
   },
   "source": [
    "接下来，我们终于可以来训练我们所搭建的首个人工神经网络了！执行以下code cell，这也将会是全文中计算量最大、耗时最长的code cell了。"
   ]
  },
  {
   "cell_type": "code",
   "execution_count": null,
   "metadata": {
    "colab": {
     "base_uri": "https://localhost:8080/",
     "height": 487
    },
    "colab_type": "code",
    "executionInfo": {
     "elapsed": 14295,
     "status": "ok",
     "timestamp": 1582769042726,
     "user": {
      "displayName": "Chi En Teh",
      "photoUrl": "https://lh3.googleusercontent.com/a-/AAuE7mCGlgBeaMHMmQhPpgPlREnVrZemyJr5CgobRmFDwg=s64",
      "userId": "12724506978468022310"
     },
     "user_tz": 300
    },
    "id": "o5w5szPFEROe",
    "outputId": "f495c53b-bd56-4fc3-cd6f-79b08f3229c5"
   },
   "outputs": [],
   "source": [
    "# ANN的学习时间\n",
    "ann.fit(x_train, y_train, # 我们用x_train和y_train来训练电脑\n",
    "        validation_split=0.1, # 电脑自己预留10%的训练数据来测试自己\n",
    "        epochs=10, # 电脑将重复学习10次\n",
    "        batch_size=500, # 以每组500笔数据来学习\n",
    "        )"
   ]
  },
  {
   "cell_type": "markdown",
   "metadata": {
    "colab_type": "text",
    "id": "Qz8_60C8Gvau"
   },
   "source": [
    "完成了！在把刚“闭门苦读”完毕的ANN送上考场之前，我们先来看看它平日训练时的进度报告："
   ]
  },
  {
   "cell_type": "code",
   "execution_count": null,
   "metadata": {
    "colab": {
     "base_uri": "https://localhost:8080/",
     "height": 375
    },
    "colab_type": "code",
    "executionInfo": {
     "elapsed": 14533,
     "status": "ok",
     "timestamp": 1582769042977,
     "user": {
      "displayName": "Chi En Teh",
      "photoUrl": "https://lh3.googleusercontent.com/a-/AAuE7mCGlgBeaMHMmQhPpgPlREnVrZemyJr5CgobRmFDwg=s64",
      "userId": "12724506978468022310"
     },
     "user_tz": 300
    },
    "id": "ZNXvmUYDFFb_",
    "outputId": "a585d67e-7d94-4e21-808d-4c41c7962495"
   },
   "outputs": [],
   "source": [
    "epochs = ann.history.epoch\n",
    "acc_train = np.array(ann.history.history['acc'])\n",
    "acc_val = np.array(ann.history.history['val_acc'])\n",
    "fig, ax = plt.subplots(dpi=120, figsize=(4,3))\n",
    "ax.plot(epochs, 1e2*acc_train, color='red', label='training')\n",
    "ax.plot(epochs, 1e2*acc_val, color='green', linestyle='dashed', label='validation')\n",
    "ax.set_xlim(0,)\n",
    "ax.set_ylim(1e2*min(acc_train.min(), acc_val.min())-5,100)\n",
    "ax.set_xlabel('Epoch')\n",
    "ax.set_ylabel('Accuracy (%)')\n",
    "ax.legend(loc='lower right')\n",
    "plt.show()"
   ]
  },
  {
   "cell_type": "markdown",
   "metadata": {
    "colab_type": "text",
    "id": "00oMm2D6JNnI"
   },
   "source": [
    "以上图表中，横轴代表了学习次数，纵轴代表了图像识别的正确率。红色的实线可以理解为电脑成功背诵和理解的百分比，而绿色的虚线则是电脑给自己“小测验”时的正确率。"
   ]
  },
  {
   "cell_type": "markdown",
   "metadata": {
    "colab_type": "text",
    "id": "rJAuE77kKsGE"
   },
   "source": [
    "## (3.5) 面对新数据时的辨识率"
   ]
  },
  {
   "cell_type": "markdown",
   "metadata": {
    "colab_type": "text",
    "id": "dvcfTtH-LQc_"
   },
   "source": [
    "接下来我们将从剩余的10000笔数据里，来看看ANN的表现如何。记得，这由MNIST预留的10000笔数据里，是没有重复到刚才用以训练的60000笔数据。如果我们的ANN仍能以高准确率来辨识出这些新数据，说明我们成功了。这些测试之所以重要是为了避免电脑投机取巧，把训练数据的60000张图像和其标签都死记硬背了，即业内常说的“过度拟合”，使得电脑并非真正“学习”了每个数字的抽象特点。"
   ]
  },
  {
   "cell_type": "code",
   "execution_count": null,
   "metadata": {
    "colab": {
     "base_uri": "https://localhost:8080/",
     "height": 53
    },
    "colab_type": "code",
    "executionInfo": {
     "elapsed": 15030,
     "status": "ok",
     "timestamp": 1582769043496,
     "user": {
      "displayName": "Chi En Teh",
      "photoUrl": "https://lh3.googleusercontent.com/a-/AAuE7mCGlgBeaMHMmQhPpgPlREnVrZemyJr5CgobRmFDwg=s64",
      "userId": "12724506978468022310"
     },
     "user_tz": 300
    },
    "id": "gbSQGzPzTl95",
    "outputId": "d4fbead0-874a-41d5-f35d-38037375d590"
   },
   "outputs": [],
   "source": [
    "_, acc_test = ann.evaluate(x_test, y_test)\n",
    "print('本ANN面对新数据的辨识率为：%.2f%%' % (1e2*acc_test))"
   ]
  },
  {
   "cell_type": "markdown",
   "metadata": {
    "colab_type": "text",
    "id": "DHc2DRz9UNxP"
   },
   "source": [
    "再一次，眼见为凭。下面，我们从这10000个新数据当中，随机选取9张图像，来看看ANN的表现。绿色Correct标签，说明ANN回答正确，反之有红色表示回答错误。"
   ]
  },
  {
   "cell_type": "code",
   "execution_count": null,
   "metadata": {
    "colab": {
     "base_uri": "https://localhost:8080/",
     "height": 673
    },
    "colab_type": "code",
    "executionInfo": {
     "elapsed": 15613,
     "status": "ok",
     "timestamp": 1582769044088,
     "user": {
      "displayName": "Chi En Teh",
      "photoUrl": "https://lh3.googleusercontent.com/a-/AAuE7mCGlgBeaMHMmQhPpgPlREnVrZemyJr5CgobRmFDwg=s64",
      "userId": "12724506978468022310"
     },
     "user_tz": 300
    },
    "id": "8EkQh-gHJGWS",
    "outputId": "995139ba-80ed-4946-8a69-733573e07158"
   },
   "outputs": [],
   "source": [
    "fig, ax = plt.subplots(3, 3, dpi=90, figsize=(9,9), sharex=True, sharey=True)\n",
    "digits = np.random.choice(range(10), size=9, replace=False)\n",
    "rc = 0\n",
    "for i in range(10):\n",
    "    if i not in digits: continue\n",
    "    c = int(rc % 3)\n",
    "    r = int((rc-c) / 3)\n",
    "    rc += 1\n",
    "\n",
    "    # get a random image\n",
    "    filter = (y_test == i)\n",
    "    k = np.random.choice(len(y_test[filter]))\n",
    "    imag = data_test[0][filter][k]\n",
    "    imag_test = x_test[filter][k]\n",
    "\n",
    "    # the labels\n",
    "    label_true = y_test[filter][k]\n",
    "    label_pred = ann.predict([[imag_test]]).argmax()\n",
    "    correct = (label_true == label_pred)\n",
    "\n",
    "    ax[r, c].imshow(imag, cmap=plt.cm.binary)\n",
    "    if correct:\n",
    "        ax[r, c].set_title('Correct! [%d]' % label_true, color='green', fontsize=16)\n",
    "    else:\n",
    "        ax[r, c].set_title('ANN: %d; Ans: %d' % (label_pred, label_true),\n",
    "                           color='red', fontsize=16)\n",
    "    ax[r, c].set_xlim(0, 28)\n",
    "    ax[r, c].set_ylim(28, 0)\n",
    "    ax[r, c].set_xticks([])\n",
    "    ax[r, c].set_yticks([])\n",
    "plt.show()"
   ]
  },
  {
   "cell_type": "markdown",
   "metadata": {
    "colab_type": "text",
    "id": "nJc2cFyYUhgj"
   },
   "source": [
    "我们也可以把ANN出错的情况筛选出来，瞧一瞧它到底败在了哪些图像。"
   ]
  },
  {
   "cell_type": "code",
   "execution_count": null,
   "metadata": {
    "colab": {
     "base_uri": "https://localhost:8080/",
     "height": 469
    },
    "colab_type": "code",
    "executionInfo": {
     "elapsed": 16148,
     "status": "ok",
     "timestamp": 1582769044636,
     "user": {
      "displayName": "Chi En Teh",
      "photoUrl": "https://lh3.googleusercontent.com/a-/AAuE7mCGlgBeaMHMmQhPpgPlREnVrZemyJr5CgobRmFDwg=s64",
      "userId": "12724506978468022310"
     },
     "user_tz": 300
    },
    "id": "ijy0__bMO2si",
    "outputId": "ec00cb1c-271d-4d6a-8c9d-879eb77537d5"
   },
   "outputs": [],
   "source": [
    "y_pred = ann.predict([x_test]).argmax(axis=1)\n",
    "y_true = y_test\n",
    "mistake_filter = (y_pred != y_true)\n",
    "y_pred_mistake = y_pred[mistake_filter]\n",
    "y_true_mistake = y_true[mistake_filter]\n",
    "\n",
    "fig, ax = plt.subplots(2, 2, dpi=90, figsize=(6,6), sharex=True, sharey=True)\n",
    "for rc in range(4):\n",
    "    c = int(rc % 2)\n",
    "    r = int((rc-c) / 2)\n",
    "\n",
    "    # get a random image\n",
    "    k = np.random.choice(len(y_true[mistake_filter]))\n",
    "    imag = data_test[0][mistake_filter][k]\n",
    "\n",
    "    # the labels\n",
    "    label_pred = y_pred_mistake[k]\n",
    "    label_true = y_true_mistake[k]\n",
    "\n",
    "    ax[r, c].imshow(imag, cmap=plt.cm.binary)\n",
    "    ax[r, c].set_title('ANN: %d; Ans: %d' % (label_pred, label_true),\n",
    "                       color='red', fontsize=16)\n",
    "    ax[r, c].set_xlim(0, 28)\n",
    "    ax[r, c].set_ylim(28, 0)\n",
    "    ax[r, c].set_xticks([])\n",
    "    ax[r, c].set_yticks([])\n",
    "plt.show()"
   ]
  },
  {
   "cell_type": "markdown",
   "metadata": {
    "colab_type": "text",
    "id": "IPAg55SqYVQB"
   },
   "source": [
    "看了以上的图像后，你是否觉得ANN错得情有可原？还是说ANN应该还有不少进步空间呢？"
   ]
  },
  {
   "cell_type": "markdown",
   "metadata": {
    "colab_type": "text",
    "id": "4BPsT1LrZDrZ"
   },
   "source": [
    "# 总结\n",
    "以上内容就简单地概括了机器学习研发过程的重要步骤。\n",
    "1. 发现问题\n",
    "    - 当我们面对着一个我们自己也不太清楚解决方案的问题，比如如何开发出一个可以打败世界围棋冠军的程式，又或者是人类普遍可以轻松解决，但很难给出个准确的指示，比如本文的数字手写体辨识，机器学习或许是不错的方法。\n",
    "2. 收集训练数据\n",
    "    - 许多大学和研究机构都会花钱请大量人力去收集和整理资料。像自动驾驶的开发，特斯拉就实地建私人道路，供汽车去学习和收集资料。\n",
    "3. 搭建人工神经网络\n",
    "    - 人工神经网络的设计和搭建有各式各样。举个例子，有些人会设计出多个人工神经网络，让它们同时学习。然后每次测验时，就模拟自然法则，淘汰掉表现欠佳的，最终适者生存。也有人让训练过程比实际应用来得苛刻，比如在训练数字手写体时，随机遮住一小部分图像，迫使人工神经网络必须“推理”出看不到的面积，避免了其投机取巧，去把答案背下的可能。\n",
    "4. 训练及测试\n",
    "    - 训练过程一般是最耗时的，也是最考验硬件的计算速度和演算法的运算效率。这个过程一般受益于新电脑材料（比如半导体）的开发，还有数学上运算方法的突破。近年来随着云端计算器的流行，许多公司像是亚马逊、谷歌和微软，都竞争开发出各自的商用超级电脑，供科研人员的租用。Google Colaboratory就像是个试用产品，借此希望使用者将来会花钱升级云端服务。\n",
    "\n",
    "最后，以上所有的code cell都是能任意编辑的。鼓励读者自己去修改参数，比如把训练次数从10次增加到20，看会有什么变化。任何修改都只会暂存于读者的Google帐户，并不会影响本文的内容。"
   ]
  }
 ],
 "metadata": {
  "colab": {
   "collapsed_sections": [],
   "name": "TUT-mnist.ipynb",
   "provenance": []
  },
  "kernelspec": {
   "display_name": "Python 3",
   "language": "python",
   "name": "python3"
  },
  "language_info": {
   "codemirror_mode": {
    "name": "ipython",
    "version": 3
   },
   "file_extension": ".py",
   "mimetype": "text/x-python",
   "name": "python",
   "nbconvert_exporter": "python",
   "pygments_lexer": "ipython3",
   "version": "3.6.9"
  }
 },
 "nbformat": 4,
 "nbformat_minor": 0
}
